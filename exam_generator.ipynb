{
 "cells": [
  {
   "cell_type": "code",
   "execution_count": 5,
   "metadata": {
    "ExecuteTime": {
     "end_time": "2017-10-13T20:13:06.053773Z",
     "start_time": "2017-10-13T20:13:05.153488Z"
    },
    "collapsed": true
   },
   "outputs": [],
   "source": [
    "import pandas as pd\n",
    "import numpy as np\n",
    "from string import ascii_lowercase"
   ]
  },
  {
   "cell_type": "code",
   "execution_count": 6,
   "metadata": {
    "ExecuteTime": {
     "end_time": "2017-10-13T20:13:06.564877Z",
     "start_time": "2017-10-13T20:13:06.557877Z"
    },
    "collapsed": true
   },
   "outputs": [],
   "source": [
    "def shuffle_ans(series):\n",
    "    '''\n",
    "    Function shuffles answers for a question.\n",
    "    \n",
    "    First, it checks whether any answer should be left in place (indicated by %).\n",
    "    Then it picks a new order for the remaining.\n",
    "    '''\n",
    "    mask = np.flatnonzero(~series.str.contains('%'))\n",
    "    \n",
    "    if len(mask)>0:\n",
    "        series.iloc[mask] = np.random.permutation(series.iloc[mask])\n",
    "    \n",
    "    return series "
   ]
  },
  {
   "cell_type": "code",
   "execution_count": 12,
   "metadata": {
    "ExecuteTime": {
     "end_time": "2017-10-13T22:22:56.709711Z",
     "start_time": "2017-10-13T22:22:56.672204Z"
    },
    "collapsed": true
   },
   "outputs": [],
   "source": [
    "def random_exam(database, random = False, in_place = 0):\n",
    "    '''\n",
    "    Function generates a random exam from a given database (pandas Dataframe).\n",
    "    Each row is one item. The first cell contains the question,\n",
    "    while the answers are placed in subsequent cells.\n",
    "    \n",
    "    The correct answer must be indicated through adding a # (hash) sign\n",
    "    at the end of the appropriate string.\n",
    "    \n",
    "    Additionally, one can add a % (percent) sign at the end of those answers\n",
    "    that should preserve their place (e.g. being first or second answer).\n",
    "    \n",
    "    Parameters\n",
    "    ----------\n",
    "    random - boolean indicator whether answer should be shuffled\n",
    "    \n",
    "    in_place - integer parameter of how many answers from the end\n",
    "               should stay in their place (e.g. for 'all of the above' type)\n",
    "    \n",
    "    '''\n",
    "    \n",
    "    rows, cols = database.shape\n",
    "    \n",
    "    # randomise the order of questions (rows)\n",
    "    exam = database.sample(frac=1).reset_index(drop=True)\n",
    "    \n",
    "    if random:\n",
    "        if in_place < 0:\n",
    "            raise ValueError('in_place parameter cannot be smaller than 0')\n",
    "        elif in_place <= cols - 1:\n",
    "            # randomise the order of answers in questions\n",
    "            exam.iloc[:,1:cols-in_place] = exam.iloc[:,1:cols-in_place].apply(shuffle_ans, axis=1)\n",
    "        else:\n",
    "            raise ValueError('in_place parameter cannot be grater than number of answers')\n",
    "    \n",
    "    # create a matrix with correct responses\n",
    "    responses = []\n",
    "    for n in range(rows):\n",
    "        responses.append(np.flatnonzero(exam.iloc[n].str.contains('#'))[0])\n",
    "    responses = pd.DataFrame(responses).applymap(lambda x: ascii_lowercase[x-1])\n",
    "    \n",
    "    # drop the unnecessary signs from the end of strings (hash, percent, space, dot)\n",
    "    exam = exam.applymap(lambda x: x.rstrip('#% .'))\n",
    "    return exam, responses"
   ]
  },
  {
   "cell_type": "code",
   "execution_count": 8,
   "metadata": {
    "ExecuteTime": {
     "end_time": "2017-10-13T20:13:07.703002Z",
     "start_time": "2017-10-13T20:13:07.679007Z"
    },
    "collapsed": true
   },
   "outputs": [],
   "source": [
    "def format_exam(exam, answers, output_name = 'exam'):\n",
    "    '''\n",
    "    Fuction formats an exam and saves its in plain text.\n",
    "    \n",
    "    Questions are numbered and answers are listed with a), b) etc. markers.\n",
    "    Questions are separated by an empty line.\n",
    "    \n",
    "    Parameters\n",
    "    ----------\n",
    "    exam - a Dataframe where each row is a question followed by its answers.\n",
    "    \n",
    "    answers - a Dataframe with indicators of correct answer to questions\n",
    "                in a exam Dataframe.\n",
    "    \n",
    "    output_name - the name for the output files (exam and answers)\n",
    "    '''\n",
    "        \n",
    "    rows, cols = exam.shape\n",
    "    \n",
    "    exam = ''\n",
    "    for n in range(rows):\n",
    "        question = str(n+1) + '. ' + question[0][n]+'\\n'\n",
    "        for m in range(1,cols):\n",
    "            ans = '\\t' + ascii_lowercase[m-1] + ') ' + question[m][n] + '.\\n'\n",
    "            question += ans\n",
    "        exam += question\n",
    "        exam += '\\n'\n",
    "    \n",
    "    textfile = open(output_name + '.txt', 'w')\n",
    "    textfile.write(exam)\n",
    "    textfile.close()\n",
    "    \n",
    "    answers.to_excel(output_name+'.xlsx', header=False, index=False)"
   ]
  },
  {
   "cell_type": "code",
   "execution_count": 29,
   "metadata": {
    "ExecuteTime": {
     "end_time": "2017-10-13T22:32:42.689143Z",
     "start_time": "2017-10-13T22:32:42.627131Z"
    },
    "collapsed": true
   },
   "outputs": [],
   "source": [
    "def format_exam_docx(exam, answers, output_name = 'exam', version = 1, template_file = 'template.docx', font='Lato'):\n",
    "    '''\n",
    "    Fuction formats an exam and saves its in MS Word format.\n",
    "    \n",
    "    Questions are numbered and answers are listed with a), b) etc. markers.\n",
    "    Questions are separated by an empty line.\n",
    "    \n",
    "    Parameters\n",
    "    ----------\n",
    "    exam - a Dataframe where each row is a question followed by its answers.\n",
    "    \n",
    "    answers - a Dataframe with indicators of correct answer to questions\n",
    "                in a exam Dataframe.\n",
    "    \n",
    "    output_name - the name for the output files (exam and answers).\n",
    "    \n",
    "    version - integer used to number the exam version.\n",
    "    \n",
    "    template_file - string indicating the location of the predefined docx template.\n",
    "                    If empty, function uses a default unformated template.\n",
    "    '''\n",
    "    \n",
    "    from docx import Document\n",
    "    from docx.shared import Mm\n",
    "    \n",
    "    rows, cols = exam.shape\n",
    "    \n",
    "    if len(template_file):\n",
    "        file = Document(template_file)\n",
    "        zero = file.paragraphs[0]\n",
    "    else:\n",
    "        file = Document()\n",
    "            \n",
    "    for n in range(rows):\n",
    "        question = file.add_paragraph('', style='List Number')\n",
    "        question.add_run(exam.iloc[n,0]).font.name = font\n",
    "        q_format = question.paragraph_format\n",
    "        q_format.left_indent = Mm(7.5)\n",
    "        q_format.first_line_indent = Mm(-7.5)\n",
    "        for m in range(1,cols):\n",
    "            answer = file.add_paragraph('', style='List')\n",
    "            answer.add_run(ascii_lowercase[m-1] + ') ' + exam.iloc[n,m] + '.').font.name = font\n",
    "            ans_format = answer.paragraph_format\n",
    "            ans_format.left_indent = Mm(12)\n",
    "            ans_format.first_line_indent = Mm(-4)\n",
    "        \n",
    "        empty_line = file.add_paragraph('')\n",
    "    \n",
    "    file.save(output_name + str(version) + '.docx')\n",
    "    answers.to_excel(output_name + str(version) + '.xlsx', header=False, index=False)"
   ]
  },
  {
   "cell_type": "code",
   "execution_count": 31,
   "metadata": {
    "ExecuteTime": {
     "end_time": "2017-10-13T22:33:39.268370Z",
     "start_time": "2017-10-13T22:33:37.924279Z"
    }
   },
   "outputs": [],
   "source": [
    "base = pd.read_excel('exam.xlsx', header=None)\n",
    "new, ans = random_exam(base, random=True, in_place=1)\n",
    "format_exam_docx(new, ans, 'new_exam', version=1)"
   ]
  }
 ],
 "metadata": {
  "anaconda-cloud": {},
  "kernelspec": {
   "display_name": "Python 3",
   "language": "python",
   "name": "python3"
  },
  "language_info": {
   "codemirror_mode": {
    "name": "ipython",
    "version": 3
   },
   "file_extension": ".py",
   "mimetype": "text/x-python",
   "name": "python",
   "nbconvert_exporter": "python",
   "pygments_lexer": "ipython3",
   "version": "3.6.2"
  }
 },
 "nbformat": 4,
 "nbformat_minor": 2
}
